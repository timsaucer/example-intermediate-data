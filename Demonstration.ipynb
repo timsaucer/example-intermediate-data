{
 "cells": [
  {
   "cell_type": "code",
   "execution_count": 1,
   "id": "938217d3-7c91-48ce-a198-657db11d2191",
   "metadata": {},
   "outputs": [],
   "source": [
    "from datafusion import SessionContext, lit, col, udf\n",
    "import pyarrow as pa"
   ]
  },
  {
   "cell_type": "code",
   "execution_count": 2,
   "id": "ed87fa8e-d373-4d12-80e4-a1d3b9d0b9fa",
   "metadata": {},
   "outputs": [],
   "source": [
    "ctx = SessionContext()"
   ]
  },
  {
   "cell_type": "code",
   "execution_count": 3,
   "id": "96a72cac-5aff-4eda-80c9-1600b94a88de",
   "metadata": {},
   "outputs": [],
   "source": [
    "import example_intermediate_data"
   ]
  },
  {
   "cell_type": "code",
   "execution_count": 4,
   "id": "56c4d174-be40-4bac-9f0f-e18947846144",
   "metadata": {},
   "outputs": [],
   "source": [
    "store = example_intermediate_data.MyDataStore(['a', 'c'])"
   ]
  },
  {
   "cell_type": "code",
   "execution_count": 5,
   "id": "f0f28c15-c510-445a-9fac-8de285a0ceae",
   "metadata": {},
   "outputs": [],
   "source": [
    "initialize_udf = udf(\n",
    "    store.initialize,\n",
    "    [pa.string(), pa.uint64()],\n",
    "    pa.bool_(),\n",
    "    \"stable\",\n",
    ")\n",
    "\n",
    "replace_udf = udf(\n",
    "    store.replace_from_store,\n",
    "    [pa.string(), pa.uint64()],\n",
    "    pa.uint64(),\n",
    "    \"stable\",\n",
    ")    "
   ]
  },
  {
   "cell_type": "code",
   "execution_count": 6,
   "id": "06293576-eec6-4bff-93b1-0498db40b117",
   "metadata": {},
   "outputs": [],
   "source": [
    "batch = pa.RecordBatch.from_arrays(\n",
    "        [\n",
    "            pa.array(['a', 'b', 'a', 'b', 'c', 'd'], type=pa.string()),\n",
    "            pa.array([1, 2, 3, 4, 5, 6], type=pa.uint64()),\n",
    "        ],\n",
    "        names=[\"col_1\", \"col_2\"],\n",
    "    )\n",
    "\n",
    "df = ctx.create_dataframe([[batch]])"
   ]
  },
  {
   "cell_type": "code",
   "execution_count": 7,
   "id": "82b773b1-3699-40e9-9ea5-4e54b3e7b29e",
   "metadata": {},
   "outputs": [
    {
     "data": {
      "text/html": [
       "<table border='1'>\n",
       "<tr><th>col_1</td><th>col_2</td></tr>\n",
       "<tr><td>a</td><td>1</td></tr>\n",
       "<tr><td>b</td><td>2</td></tr>\n",
       "<tr><td>a</td><td>3</td></tr>\n",
       "<tr><td>b</td><td>4</td></tr>\n",
       "<tr><td>c</td><td>5</td></tr>\n",
       "<tr><td>d</td><td>6</td></tr>\n",
       "</table>\n"
      ],
      "text/plain": [
       "DataFrame()\n",
       "+-------+-------+\n",
       "| col_1 | col_2 |\n",
       "+-------+-------+\n",
       "| a     | 1     |\n",
       "| b     | 2     |\n",
       "| a     | 3     |\n",
       "| b     | 4     |\n",
       "| c     | 5     |\n",
       "| d     | 6     |\n",
       "+-------+-------+"
      ]
     },
     "execution_count": 7,
     "metadata": {},
     "output_type": "execute_result"
    }
   ],
   "source": [
    "# Just show the original data\n",
    "\n",
    "df"
   ]
  },
  {
   "cell_type": "code",
   "execution_count": 8,
   "id": "f66cf2c3-46b0-40e5-be34-269c7d81f19a",
   "metadata": {},
   "outputs": [
    {
     "data": {
      "text/html": [
       "<table border='1'>\n",
       "<tr><th>col_1</td><th>col_2</td><th>col_3</td></tr>\n",
       "<tr><td>a</td><td>1</td><td>true</td></tr>\n",
       "<tr><td>b</td><td>2</td><td>false</td></tr>\n",
       "<tr><td>a</td><td>3</td><td>true</td></tr>\n",
       "<tr><td>b</td><td>4</td><td>false</td></tr>\n",
       "<tr><td>c</td><td>5</td><td>true</td></tr>\n",
       "<tr><td>d</td><td>6</td><td>false</td></tr>\n",
       "</table>\n"
      ],
      "text/plain": [
       "DataFrame()\n",
       "+-------+-------+-------+\n",
       "| col_1 | col_2 | col_3 |\n",
       "+-------+-------+-------+\n",
       "| a     | 1     | true  |\n",
       "| b     | 2     | false |\n",
       "| a     | 3     | true  |\n",
       "| b     | 4     | false |\n",
       "| c     | 5     | true  |\n",
       "| d     | 6     | false |\n",
       "+-------+-------+-------+"
      ]
     },
     "execution_count": 8,
     "metadata": {},
     "output_type": "execute_result"
    }
   ],
   "source": [
    "# Now we make this call to initialize the data store so we can use it later\n",
    "\n",
    "df.with_column(\"col_3\", initialize_udf(col(\"col_1\"), col(\"col_2\")))"
   ]
  },
  {
   "cell_type": "code",
   "execution_count": 9,
   "id": "8e753e16-6985-426c-a485-37f3485a6082",
   "metadata": {},
   "outputs": [
    {
     "data": {
      "text/html": [
       "<table border='1'>\n",
       "<tr><th>col_1</td><th>col_2</td><th>max_by_col1</td></tr>\n",
       "<tr><td>a</td><td>1</td><td>1</td></tr>\n",
       "<tr><td>b</td><td>2</td><td>4</td></tr>\n",
       "<tr><td>a</td><td>3</td><td>3</td></tr>\n",
       "<tr><td>b</td><td>4</td><td>4</td></tr>\n",
       "<tr><td>c</td><td>5</td><td>5</td></tr>\n",
       "<tr><td>d</td><td>6</td><td>6</td></tr>\n",
       "</table>\n"
      ],
      "text/plain": [
       "DataFrame()\n",
       "+-------+-------+-------------+\n",
       "| col_1 | col_2 | max_by_col1 |\n",
       "+-------+-------+-------------+\n",
       "| a     | 1     | 1           |\n",
       "| b     | 2     | 4           |\n",
       "| a     | 3     | 3           |\n",
       "| b     | 4     | 4           |\n",
       "| c     | 5     | 5           |\n",
       "| d     | 6     | 6           |\n",
       "+-------+-------+-------------+"
      ]
     },
     "execution_count": 9,
     "metadata": {},
     "output_type": "execute_result"
    }
   ],
   "source": [
    "# Use the data structure. It should ignore the replacement for col_1 values a and c\n",
    "# for others it should sow the max value of col_2 for that col_1\n",
    "df.with_column(\"max_by_col1\", replace_udf(col(\"col_1\"), col(\"col_2\")))"
   ]
  },
  {
   "cell_type": "code",
   "execution_count": null,
   "id": "f96b5c71-b85d-42cc-9ca3-27f31c43d70f",
   "metadata": {},
   "outputs": [],
   "source": []
  }
 ],
 "metadata": {
  "kernelspec": {
   "display_name": "Python 3 (ipykernel)",
   "language": "python",
   "name": "python3"
  },
  "language_info": {
   "codemirror_mode": {
    "name": "ipython",
    "version": 3
   },
   "file_extension": ".py",
   "mimetype": "text/x-python",
   "name": "python",
   "nbconvert_exporter": "python",
   "pygments_lexer": "ipython3",
   "version": "3.10.16"
  }
 },
 "nbformat": 4,
 "nbformat_minor": 5
}
